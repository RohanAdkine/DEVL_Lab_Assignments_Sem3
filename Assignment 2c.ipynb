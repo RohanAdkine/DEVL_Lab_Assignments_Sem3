{
 "cells": [
  {
   "cell_type": "code",
   "execution_count": 14,
   "id": "3f65217b-7042-4542-9e5a-3eaa22d25d34",
   "metadata": {},
   "outputs": [
    {
     "name": "stdout",
     "output_type": "stream",
     "text": [
      "DataFrame after dropna:\n",
      "      name   PRN Year Division Batch\n",
      "0    Rohan  76.0   SY        B    B1\n",
      "1    Anish  79.0   SY        B    B1\n",
      "2   Piyush  77.0   SY        B    B1\n",
      "4  tanishq  92.0   SY        B    B1\n",
      "\n",
      "DataFrame after filling NaN in 'PRN' column:\n",
      "      name   PRN Year Division Batch\n",
      "0    Rohan  76.0   SY        B    B1\n",
      "1    Anish  79.0   SY        B    B1\n",
      "2   Piyush  77.0   SY        B    B1\n",
      "3   Aditya   0.0   SY        B    B1\n",
      "4  tanishq  92.0   SY        B    B1\n"
     ]
    }
   ],
   "source": [
    "import pandas as pd\n",
    "\n",
    "data1 = [\n",
    "    {\"name\": \"Rohan\", \"PRN\": 76, \"Year\": \"SY\", \"Division\": \"B\", \"Batch\": \"B1\"},\n",
    "    {\"name\": \"Anish\", \"PRN\": 79, \"Year\": \"SY\", \"Division\": \"B\", \"Batch\": \"B1\"},\n",
    "    {\"name\": \"Piyush\", \"PRN\": 77, \"Year\": \"SY\", \"Division\": \"B\", \"Batch\": \"B1\"},\n",
    "    {\"name\": \"Aditya\", \"PRN\": None, \"Year\": \"SY\", \"Division\": \"B\", \"Batch\": \"B1\"},\n",
    "    {\"name\": \"tanishq\", \"PRN\": 92, \"Year\": \"SY\", \"Division\": \"B\", \"Batch\": \"B1\"}\n",
    "]\n",
    "\n",
    "# Create DataFrame\n",
    "df = pd.DataFrame(data1)\n",
    "\n",
    "# Drop rows with NaN values and store it in a new DataFrame\n",
    "new_df = df.dropna()\n",
    "\n",
    "# Fill NaN values in 'PRN' column with 0\n",
    "df['PRN'] = df['PRN'].fillna(0)\n",
    "\n",
    "# Print the DataFrames\n",
    "print(\"DataFrame after dropna:\")\n",
    "print(new_df.to_string())\n",
    "print(\"\\nDataFrame after filling NaN in 'PRN' column:\")\n",
    "print(df.to_string())\n"
   ]
  },
  {
   "cell_type": "code",
   "execution_count": 15,
   "id": "f09c8e26-329f-4fb9-a728-e3621fe95cfc",
   "metadata": {},
   "outputs": [
    {
     "name": "stdout",
     "output_type": "stream",
     "text": [
      "     A    B    C  D\n",
      "0  1.0  3.5  1.0  1\n",
      "1  2.0  2.0  2.0  6\n",
      "2  3.0  3.0  1.0  3\n",
      "3  4.0  4.0  1.0  4\n",
      "4  5.0  5.0  5.0  5\n"
     ]
    }
   ],
   "source": [
    "import numpy as np\n",
    "import pandas as pd\n",
    "\n",
    "# Sample data with NaN values\n",
    "data = {\n",
    "    'A': [1, 2, np.nan, 4, 5],\n",
    "    'B': [np.nan, 2, 3, 4, 5],\n",
    "    'C': [1, 2, 1, np.nan, 5],\n",
    "    'D': [1, 6, 3, 4, 5]\n",
    "}\n",
    "\n",
    "# Create DataFrame\n",
    "df = pd.DataFrame(data)\n",
    "\n",
    "# Fill NaN in column 'A' with the mean of the column\n",
    "df['A'] = df['A'].fillna(value=df['A'].mean())\n",
    "\n",
    "# Fill NaN in column 'B' with the median of the column\n",
    "df['B'] = df['B'].fillna(value=df['B'].median())\n",
    "\n",
    "# Fill NaN in column 'C' with the mode of the column (using the first mode if there are multiple)\n",
    "df['C'] = df['C'].fillna(value=df['C'].mode()[0])\n",
    "\n",
    "# Print the DataFrame\n",
    "print(df)\n"
   ]
  },
  {
   "cell_type": "code",
   "execution_count": 16,
   "id": "8fb0c0a3-57c4-4355-963f-c74348bb2a0a",
   "metadata": {},
   "outputs": [
    {
     "name": "stdout",
     "output_type": "stream",
     "text": [
      "   Id  SepalLengthCm  SepalWidthCm  PetalLengthCm  PetalWidthCm      Species\n",
      "0   1            5.1           3.5            1.4           0.2  Iris-setosa\n",
      "1   2            4.9           3.0            1.4           0.2  Iris-setosa\n",
      "2   3            4.7           3.2            1.3           0.2  Iris-setosa\n",
      "3   4            4.6           3.1            1.5           0.2  Iris-setosa\n",
      "4   5            5.0           3.6            1.4           0.2  Iris-setosa\n",
      "Empty DataFrame\n",
      "Columns: [Id, SepalLengthCm, SepalWidthCm, PetalLengthCm, PetalWidthCm, Species]\n",
      "Index: []\n"
     ]
    }
   ],
   "source": [
    "import pandas as pd\n",
    "df = pd.read_csv('Iris.csv')\n",
    "print(df.head())\n",
    "Q1 = df['SepalLengthCm'].quantile(0.25)\n",
    "Q3 = df['SepalLengthCm'].quantile(0.75)\n",
    "IQR = Q3 -Q1\n",
    "lower_limit = Q1 -(1.5 * IQR)\n",
    "upper_limit = Q3 + (1.5 * IQR)\n",
    "outlier_df = df[(df['SepalLengthCm'] < lower_limit) | (df['SepalLengthCm'] > upper_limit)]\n",
    "# Print outliers\n",
    "print(outlier_df)"
   ]
  }
 ],
 "metadata": {
  "kernelspec": {
   "display_name": "Python 3 (ipykernel)",
   "language": "python",
   "name": "python3"
  },
  "language_info": {
   "codemirror_mode": {
    "name": "ipython",
    "version": 3
   },
   "file_extension": ".py",
   "mimetype": "text/x-python",
   "name": "python",
   "nbconvert_exporter": "python",
   "pygments_lexer": "ipython3",
   "version": "3.12.4"
  }
 },
 "nbformat": 4,
 "nbformat_minor": 5
}
