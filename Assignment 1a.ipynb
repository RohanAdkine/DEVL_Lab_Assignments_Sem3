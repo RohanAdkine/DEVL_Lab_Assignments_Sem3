{
 "cells": [
  {
   "cell_type": "code",
   "execution_count": 1,
   "id": "7d8b23d0-6b72-4bc0-a9f3-926b8b8406b3",
   "metadata": {},
   "outputs": [
    {
     "name": "stdout",
     "output_type": "stream",
     "text": [
      "Student Rohan already exists. Use update_score to update their score.\n",
      "Added student Piyush with score 98.\n",
      "Added student Vaibhav with score 99.\n",
      "Added student Chaitanya with score 95.\n",
      "Updated Rohan's score to 99.\n",
      "Removed Piyush successfully.\n",
      "Student with the highest score is Aditya with a score of 99.\n"
     ]
    },
    {
     "data": {
      "text/plain": [
       "('Aditya', 99)"
      ]
     },
     "execution_count": 1,
     "metadata": {},
     "output_type": "execute_result"
    }
   ],
   "source": [
    "# Dictionary to store the student scores\n",
    "student_scores = {\n",
    "    \"Aditya\": 99,\n",
    "    \"Rohan\": 100\n",
    "}\n",
    "\n",
    "def add_student(name, score):\n",
    "    \"\"\"Add a new student with their score.\"\"\"\n",
    "    if name in student_scores:\n",
    "        print(f\"Student {name} already exists. Use update_score to update their score.\")\n",
    "    else:\n",
    "        student_scores[name] = score\n",
    "        print(f\"Added student {name} with score {score}.\")\n",
    "\n",
    "def update_score(name, score):\n",
    "    \"\"\"Update the score of an existing student.\"\"\"\n",
    "    if name in student_scores:\n",
    "        student_scores[name] = score\n",
    "        print(f\"Updated {name}'s score to {score}.\")\n",
    "    else:\n",
    "        print(f\"Student {name} does not exist. Use add_student to add them first.\")\n",
    "\n",
    "def delete_student(name):\n",
    "    \"\"\"Delete a student from the record.\"\"\"\n",
    "    if name in student_scores:\n",
    "        del student_scores[name]\n",
    "        print(f\"Removed {name} successfully.\")\n",
    "    else:\n",
    "        print(f\"Student {name} does not exist.\")\n",
    "\n",
    "def find_highest_score():\n",
    "    \"\"\"Find the student with the highest score.\"\"\"\n",
    "    if not student_scores:\n",
    "        print(\"No students in the record.\")\n",
    "        return None\n",
    "    highest_score_student = max(student_scores, key=student_scores.get)\n",
    "    highest_score = student_scores[highest_score_student]\n",
    "    print(f\"Student with the highest score is {highest_score_student} with a score of {highest_score}.\")\n",
    "    return highest_score_student, highest_score\n",
    "\n",
    "# Test the functions\n",
    "add_student(\"Rohan\", 100)\n",
    "add_student(\"Piyush\", 98)\n",
    "add_student(\"Vaibhav\", 99)\n",
    "add_student(\"Chaitanya\", 95)\n",
    "update_score(\"Rohan\", 99)\n",
    "delete_student(\"Piyush\")\n",
    "find_highest_score()\n"
   ]
  }
 ],
 "metadata": {
  "kernelspec": {
   "display_name": "Python 3 (ipykernel)",
   "language": "python",
   "name": "python3"
  },
  "language_info": {
   "codemirror_mode": {
    "name": "ipython",
    "version": 3
   },
   "file_extension": ".py",
   "mimetype": "text/x-python",
   "name": "python",
   "nbconvert_exporter": "python",
   "pygments_lexer": "ipython3",
   "version": "3.12.4"
  }
 },
 "nbformat": 4,
 "nbformat_minor": 5
}
