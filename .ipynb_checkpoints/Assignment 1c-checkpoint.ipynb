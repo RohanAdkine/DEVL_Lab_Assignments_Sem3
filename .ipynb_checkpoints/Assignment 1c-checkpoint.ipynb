{
 "cells": [
  {
   "cell_type": "code",
   "execution_count": 1,
   "id": "fab627ef-5cee-4349-9e74-a7a7faea39b8",
   "metadata": {},
   "outputs": [
    {
     "name": "stdin",
     "output_type": "stream",
     "text": [
      "Enter the Key:  1\n"
     ]
    },
    {
     "name": "stdout",
     "output_type": "stream",
     "text": [
      "The sum of the matrices is:\n",
      "[[ 3  3  6]\n",
      " [ 8 10 15]\n",
      " [ 8 16 14]]\n",
      "[[ 3  3  6]\n",
      " [ 8 10 15]\n",
      " [ 8 16 14]]\n"
     ]
    },
    {
     "name": "stdin",
     "output_type": "stream",
     "text": [
      "Enter the Key:  2\n"
     ]
    },
    {
     "name": "stdout",
     "output_type": "stream",
     "text": [
      "The difference of the matrices is:\n",
      "[[-1  1  0]\n",
      " [ 0  0 -3]\n",
      " [ 6  0  4]]\n",
      "[[-1  1  0]\n",
      " [ 0  0 -3]\n",
      " [ 6  0  4]]\n"
     ]
    },
    {
     "name": "stdin",
     "output_type": "stream",
     "text": [
      "Enter the Key:  3\n"
     ]
    },
    {
     "name": "stdout",
     "output_type": "stream",
     "text": [
      "The element-wise multiplication of the matrices is:\n",
      "[[ 2  2  9]\n",
      " [16 25 54]\n",
      " [ 7 64 45]]\n",
      "[[ 2  2  9]\n",
      " [16 25 54]\n",
      " [ 7 64 45]]\n"
     ]
    },
    {
     "name": "stdin",
     "output_type": "stream",
     "text": [
      "Enter the Key:  4\n"
     ]
    },
    {
     "name": "stdout",
     "output_type": "stream",
     "text": [
      "The element-wise division of the matrices is:\n",
      "[[0.5        2.         1.        ]\n",
      " [1.         1.         0.66666667]\n",
      " [7.         1.         1.8       ]]\n",
      "[[0.5        2.         1.        ]\n",
      " [1.         1.         0.66666667]\n",
      " [7.         1.         1.8       ]]\n"
     ]
    },
    {
     "name": "stdin",
     "output_type": "stream",
     "text": [
      "Enter the Key:  5\n"
     ]
    },
    {
     "name": "stdout",
     "output_type": "stream",
     "text": [
      "The dot product of the matrices is:\n",
      "[[ 13  35  36]\n",
      " [ 34  77  87]\n",
      " [ 55 119 138]]\n"
     ]
    },
    {
     "name": "stdin",
     "output_type": "stream",
     "text": [
      "Enter the Key:  6\n"
     ]
    },
    {
     "name": "stdout",
     "output_type": "stream",
     "text": [
      "The square of the matrix m1 is:\n",
      "[[ 1  4  9]\n",
      " [16 25 36]\n",
      " [49 64 81]]\n"
     ]
    },
    {
     "name": "stdin",
     "output_type": "stream",
     "text": [
      "Enter the Key:  7\n"
     ]
    },
    {
     "name": "stdout",
     "output_type": "stream",
     "text": [
      "The square of the matrix m2 is:\n",
      "[[ 4  1  9]\n",
      " [16 25 81]\n",
      " [ 1 64 25]]\n"
     ]
    },
    {
     "name": "stdin",
     "output_type": "stream",
     "text": [
      "Enter the Key:  8\n"
     ]
    },
    {
     "name": "stdout",
     "output_type": "stream",
     "text": [
      "m1 raised to the power of m2 element-wise is:\n",
      "[[       1        2       27]\n",
      " [     256     3125 10077696]\n",
      " [       7 16777216    59049]]\n"
     ]
    },
    {
     "name": "stdin",
     "output_type": "stream",
     "text": [
      "Enter the Key:  9\n"
     ]
    },
    {
     "name": "stdout",
     "output_type": "stream",
     "text": [
      "The type of m1 is: <class 'numpy.ndarray'>\n"
     ]
    },
    {
     "name": "stdin",
     "output_type": "stream",
     "text": [
      "Enter the Key:  10\n"
     ]
    },
    {
     "name": "stdout",
     "output_type": "stream",
     "text": [
      "The type of m2 is: <class 'numpy.ndarray'>\n"
     ]
    },
    {
     "name": "stdin",
     "output_type": "stream",
     "text": [
      "Enter the Key:  11\n"
     ]
    },
    {
     "name": "stdout",
     "output_type": "stream",
     "text": [
      "Sorted m3 array: [1 2 3 4 5]\n"
     ]
    },
    {
     "name": "stdin",
     "output_type": "stream",
     "text": [
      "Enter the Key:  12\n"
     ]
    },
    {
     "name": "stdout",
     "output_type": "stream",
     "text": [
      "The maximum value in m3 is: 5\n"
     ]
    },
    {
     "name": "stdin",
     "output_type": "stream",
     "text": [
      "Enter the Key:  13\n"
     ]
    },
    {
     "name": "stdout",
     "output_type": "stream",
     "text": [
      "The minimum value in m3 is: 1\n"
     ]
    },
    {
     "name": "stdin",
     "output_type": "stream",
     "text": [
      "Enter the Key:  14\n"
     ]
    },
    {
     "name": "stdout",
     "output_type": "stream",
     "text": [
      "The average value in m3 is: 3.0\n"
     ]
    },
    {
     "name": "stdin",
     "output_type": "stream",
     "text": [
      "Enter the Key:  15\n"
     ]
    },
    {
     "name": "stdout",
     "output_type": "stream",
     "text": [
      "The code has been ended.\n"
     ]
    }
   ],
   "source": [
    "import numpy as np\n",
    "\n",
    "# Define matrices\n",
    "m1 = np.array([[1, 2, 3], [4, 5, 6], [7, 8, 9]])\n",
    "m2 = np.array([[2, 1, 3], [4, 5, 9], [1, 8, 5]])\n",
    "m3 = np.array([2, 3, 1, 4, 5])\n",
    "\n",
    "while True:\n",
    "    i = int(input(\"Enter the Key: \"))\n",
    "\n",
    "    if i == 1:\n",
    "        print(\"The sum of the matrices is:\")\n",
    "        add = np.add(m1, m2)\n",
    "        print(add)\n",
    "        add1 = m1 + m2\n",
    "        print(add1)\n",
    "        \n",
    "    elif i == 2:\n",
    "        print(\"The difference of the matrices is:\")\n",
    "        sub = np.subtract(m1, m2)\n",
    "        print(sub)\n",
    "        sub1 = m1 - m2\n",
    "        print(sub1)\n",
    "        \n",
    "    elif i == 3:\n",
    "        print(\"The element-wise multiplication of the matrices is:\")\n",
    "        mul = np.multiply(m1, m2)\n",
    "        print(mul)\n",
    "        mul1 = m1 * m2\n",
    "        print(mul1)\n",
    "        \n",
    "    elif i == 4:\n",
    "        print(\"The element-wise division of the matrices is:\")\n",
    "        div = np.divide(m1, m2)\n",
    "        print(div)\n",
    "        div1 = m1 / m2\n",
    "        print(div1)\n",
    "        \n",
    "    elif i == 5:\n",
    "        print(\"The dot product of the matrices is:\")\n",
    "        dot1 = np.dot(m1, m2)\n",
    "        print(dot1)\n",
    "        \n",
    "    elif i == 6:\n",
    "        print(\"The square of the matrix m1 is:\")\n",
    "        square = np.power(m1, 2)\n",
    "        print(square)\n",
    "        \n",
    "    elif i == 7:\n",
    "        print(\"The square of the matrix m2 is:\")\n",
    "        square = np.power(m2, 2)\n",
    "        print(square)\n",
    "        \n",
    "    elif i == 8:\n",
    "        print(\"m1 raised to the power of m2 element-wise is:\")\n",
    "        pow = np.power(m1, m2)\n",
    "        print(pow)\n",
    "        \n",
    "    elif i == 9:\n",
    "        print(\"The type of m1 is:\", type(m1))\n",
    "        \n",
    "    elif i == 10:\n",
    "        print(\"The type of m2 is:\", type(m2))\n",
    "        \n",
    "    elif i == 11:\n",
    "        print(\"Sorted m3 array:\", np.sort(m3))\n",
    "        \n",
    "    elif i == 12:\n",
    "        print(\"The maximum value in m3 is:\", np.max(m3))\n",
    "        \n",
    "    elif i == 13:\n",
    "        print(\"The minimum value in m3 is:\", np.min(m3))\n",
    "        \n",
    "    elif i == 14:\n",
    "        print(\"The average value in m3 is:\", np.average(m3))\n",
    "        \n",
    "    elif i == 15:\n",
    "        print(\"The code has been ended.\")\n",
    "        break\n",
    "        \n",
    "    else:\n",
    "        print(\"Invalid option. Please enter a number between 1 and 15.\")\n"
   ]
  }
 ],
 "metadata": {
  "kernelspec": {
   "display_name": "Python 3 (ipykernel)",
   "language": "python",
   "name": "python3"
  },
  "language_info": {
   "codemirror_mode": {
    "name": "ipython",
    "version": 3
   },
   "file_extension": ".py",
   "mimetype": "text/x-python",
   "name": "python",
   "nbconvert_exporter": "python",
   "pygments_lexer": "ipython3",
   "version": "3.12.4"
  }
 },
 "nbformat": 4,
 "nbformat_minor": 5
}
