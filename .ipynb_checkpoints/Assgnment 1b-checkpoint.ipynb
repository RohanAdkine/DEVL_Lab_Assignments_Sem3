{
 "cells": [
  {
   "cell_type": "code",
   "execution_count": 1,
   "id": "6e388d05-bb56-46fc-8d1e-75603b0c688a",
   "metadata": {},
   "outputs": [
    {
     "name": "stdin",
     "output_type": "stream",
     "text": [
      "Enter the Key:  1\n"
     ]
    },
    {
     "name": "stdout",
     "output_type": "stream",
     "text": [
      "5\n"
     ]
    },
    {
     "name": "stdin",
     "output_type": "stream",
     "text": [
      "Enter the Key:  2\n",
      "Enter element to append:  3\n",
      "Enter the Key:  3\n",
      "Enter the index position for insertion:  2\n",
      "Enter the element for insertion:  4\n",
      "Enter the Key:  4\n",
      "Enter the element to delete:  3\n",
      "Enter the Key:  5\n",
      "Enter the index to delete:  4\n",
      "Enter the Key:  4\n",
      "Enter the element to delete:  3\n"
     ]
    },
    {
     "name": "stdout",
     "output_type": "stream",
     "text": [
      "Element not found in the list.\n"
     ]
    },
    {
     "name": "stdin",
     "output_type": "stream",
     "text": [
      "Enter the Key:  6\n",
      "Enter the Key:  7\n"
     ]
    },
    {
     "name": "stdout",
     "output_type": "stream",
     "text": [
      "[5, ['Apple', 'Banana', 'Chiku'], 4, 2, 1]\n"
     ]
    },
    {
     "name": "stdin",
     "output_type": "stream",
     "text": [
      "Enter the Key:  3\n",
      "Enter the index position for insertion:  2\n",
      "Enter the element for insertion:  2\n",
      "Enter the Key:  8\n"
     ]
    },
    {
     "name": "stdout",
     "output_type": "stream",
     "text": [
      "[5, ['Apple', 'Banana', 'Chiku'], 2]\n"
     ]
    },
    {
     "name": "stdin",
     "output_type": "stream",
     "text": [
      "Enter the Key:  9\n"
     ]
    },
    {
     "name": "stdout",
     "output_type": "stream",
     "text": [
      "1\n"
     ]
    },
    {
     "name": "stdin",
     "output_type": "stream",
     "text": [
      "Enter the Key:  10\n"
     ]
    },
    {
     "name": "stdout",
     "output_type": "stream",
     "text": [
      "[1, 2, 4, 2, ['Apple', 'Banana', 'Chiku'], 5]\n"
     ]
    },
    {
     "name": "stdin",
     "output_type": "stream",
     "text": [
      "Enter the Key:  11\n",
      "Enter the index to delete:  1\n",
      "Enter the Key:  12\n",
      "Enter starting position:  2\n",
      "Enter the ending position plus one:  2\n",
      "Enter the gap:  3\n"
     ]
    },
    {
     "name": "stdout",
     "output_type": "stream",
     "text": [
      "[]\n"
     ]
    },
    {
     "name": "stdin",
     "output_type": "stream",
     "text": [
      "Enter the Key:  13\n"
     ]
    },
    {
     "name": "stdout",
     "output_type": "stream",
     "text": [
      "Code has been ended.\n"
     ]
    }
   ],
   "source": [
    "# Initial list\n",
    "lst = [1, 2, [\"Apple\", \"Banana\", \"Chiku\"], 4, 5]\n",
    "\n",
    "while True:\n",
    "    i = int(input(\"Enter the Key: \"))\n",
    "\n",
    "    if i == 1:\n",
    "        print(len(lst))\n",
    "        \n",
    "    elif i == 2:\n",
    "        ap = int(input(\"Enter element to append: \"))\n",
    "        lst.append(ap)\n",
    "        \n",
    "    elif i == 3:\n",
    "        index = int(input(\"Enter the index position for insertion: \"))\n",
    "        ele = int(input(\"Enter the element for insertion: \"))\n",
    "        lst.insert(index, ele)\n",
    "        \n",
    "    elif i == 4:\n",
    "        ele = int(input(\"Enter the element to delete: \"))\n",
    "        if ele in lst:\n",
    "            lst.remove(ele)\n",
    "        else:\n",
    "            print(\"Element not found in the list.\")\n",
    "            \n",
    "    elif i == 5:\n",
    "        ele = int(input(\"Enter the index to delete: \"))\n",
    "        if 0 <= ele < len(lst):\n",
    "            lst.pop(ele)\n",
    "        else:\n",
    "            print(\"Invalid index.\")\n",
    "            \n",
    "    elif i == 6:\n",
    "        lst.reverse()\n",
    "        \n",
    "    elif i == 7:\n",
    "        print(lst)\n",
    "        \n",
    "    elif i == 8:\n",
    "        print(lst[0:3:1])\n",
    "        \n",
    "    elif i == 9:\n",
    "        print(lst.count(1))\n",
    "        \n",
    "    elif i == 10:\n",
    "        print(lst[::-1])\n",
    "        \n",
    "    elif i == 11:\n",
    "        index = int(input(\"Enter the index to delete: \"))\n",
    "        if 0 <= index < len(lst):\n",
    "            del lst[index]\n",
    "        else:\n",
    "            print(\"Invalid index.\")\n",
    "            \n",
    "    elif i == 12:\n",
    "        st = int(input(\"Enter starting position: \"))\n",
    "        end = int(input(\"Enter the ending position plus one: \"))\n",
    "        step = int(input(\"Enter the gap: \"))\n",
    "        print(lst[st:end:step])\n",
    "        \n",
    "    elif i == 13:\n",
    "        print(\"Code has been ended.\")\n",
    "        break\n",
    "        \n",
    "    else:\n",
    "        print(\"Invalid option. Please enter a number between 1 and 13.\")\n"
   ]
  },
  {
   "cell_type": "code",
   "execution_count": 2,
   "id": "ecf0755a-23a5-4d5f-b2e1-6ede4e8faa96",
   "metadata": {},
   "outputs": [
    {
     "name": "stdin",
     "output_type": "stream",
     "text": [
      "Enter the Key:  1\n"
     ]
    },
    {
     "name": "stdout",
     "output_type": "stream",
     "text": [
      "7\n"
     ]
    },
    {
     "name": "stdin",
     "output_type": "stream",
     "text": [
      "Enter the Key:  2\n",
      "Enter element to append:  3\n",
      "Enter the Key:  4\n",
      "Enter the element to delete:  5\n",
      "Enter the Key:  56\n"
     ]
    },
    {
     "name": "stdout",
     "output_type": "stream",
     "text": [
      "Invalid option. Please enter a number between 1 and 14.\n"
     ]
    },
    {
     "name": "stdin",
     "output_type": "stream",
     "text": [
      "Enter the Key:  3\n",
      "Enter the index position for insertion:  14\n",
      "Enter the element for insertion:  1\n",
      "Enter the Key:  14\n"
     ]
    },
    {
     "name": "stdout",
     "output_type": "stream",
     "text": [
      "Code has been ended.\n"
     ]
    }
   ],
   "source": [
    "# Initial list\n",
    "lst = [1, 2, 3, 4, 5, 6, 3]\n",
    "\n",
    "while True:\n",
    "    i = int(input(\"Enter the Key: \"))\n",
    "\n",
    "    if i == 1:\n",
    "        print(len(lst))\n",
    "        \n",
    "    elif i == 2:\n",
    "        ap = int(input(\"Enter element to append: \"))\n",
    "        lst.append(ap)\n",
    "        \n",
    "    elif i == 3:\n",
    "        index = int(input(\"Enter the index position for insertion: \"))\n",
    "        ele = int(input(\"Enter the element for insertion: \"))\n",
    "        lst.insert(index, ele)\n",
    "        \n",
    "    elif i == 4:\n",
    "        ele = int(input(\"Enter the element to delete: \"))\n",
    "        if ele in lst:\n",
    "            lst.remove(ele)\n",
    "        else:\n",
    "            print(\"Element not found in the list.\")\n",
    "            \n",
    "    elif i == 5:\n",
    "        index = int(input(\"Enter the index to delete: \"))\n",
    "        if 0 <= index < len(lst):\n",
    "            lst.pop(index)\n",
    "        else:\n",
    "            print(\"Invalid index.\")\n",
    "            \n",
    "    elif i == 6:\n",
    "        lst.reverse()\n",
    "        \n",
    "    elif i == 7:\n",
    "        lst.sort()\n",
    "        print(lst)\n",
    "        \n",
    "    elif i == 8:\n",
    "        print(max(lst))\n",
    "        \n",
    "    elif i == 9:\n",
    "        print(min(lst))\n",
    "        \n",
    "    elif i == 10:\n",
    "        st = int(input(\"Enter starting position: \"))\n",
    "        end = int(input(\"Enter the ending position plus one: \"))\n",
    "        step = int(input(\"Enter the gap: \"))\n",
    "        print(lst[st:end:step])\n",
    "        \n",
    "    elif i == 11:\n",
    "        index = int(input(\"Enter the index to delete: \"))\n",
    "        if 0 <= index < len(lst):\n",
    "            del lst[index]\n",
    "        else:\n",
    "            print(\"Invalid index.\")\n",
    "            \n",
    "    elif i == 12:\n",
    "        print(lst.count(1))\n",
    "        \n",
    "    elif i == 13:\n",
    "        l1 = []\n",
    "        index = int(input(\"Enter the number of elements for l1: \"))\n",
    "        for _ in range(index):\n",
    "            ele = int(input(\"Enter the element for insertion: \"))\n",
    "            l1.append(ele)\n",
    "        lst.extend(l1)\n",
    "        print(lst)\n",
    "        \n",
    "    elif i == 14:\n",
    "        print(\"Code has been ended.\")\n",
    "        break\n",
    "        \n",
    "    else:\n",
    "        print(\"Invalid option. Please enter a number between 1 and 14.\")\n"
   ]
  }
 ],
 "metadata": {
  "kernelspec": {
   "display_name": "Python 3 (ipykernel)",
   "language": "python",
   "name": "python3"
  },
  "language_info": {
   "codemirror_mode": {
    "name": "ipython",
    "version": 3
   },
   "file_extension": ".py",
   "mimetype": "text/x-python",
   "name": "python",
   "nbconvert_exporter": "python",
   "pygments_lexer": "ipython3",
   "version": "3.12.4"
  }
 },
 "nbformat": 4,
 "nbformat_minor": 5
}
