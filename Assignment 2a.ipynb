{
 "cells": [
  {
   "cell_type": "code",
   "execution_count": 2,
   "id": "fa1f7625-6799-4837-994d-e26a30c96ecd",
   "metadata": {},
   "outputs": [
    {
     "name": "stdout",
     "output_type": "stream",
     "text": [
      "      name  PRN Year Division Batch\n",
      "0    Rohan   76   SY        B    B1\n",
      "1    Anish   79   SY        B    B1\n",
      "2   Piyush   77   SY        B    B1\n",
      "3   Aditya   75   SY        B    B1\n",
      "4  tanishq   92   SY        B    B1\n"
     ]
    }
   ],
   "source": [
    "import pandas as pd\n",
    "data1 = [\n",
    "    {\"name\": \"Rohan\", \"PRN\": 76, \"Year\": \"SY\", \"Division\": \"B\", \"Batch\": \"B1\"},\n",
    "    {\"name\": \"Anish\", \"PRN\": 79, \"Year\": \"SY\", \"Division\": \"B\", \"Batch\": \"B1\"},\n",
    "    {\"name\": \"Piyush\", \"PRN\": 77, \"Year\": \"SY\", \"Division\": \"B\", \"Batch\": \"B1\"},\n",
    "    {\"name\": \"Aditya\", \"PRN\": 75, \"Year\": \"SY\", \"Division\": \"B\", \"Batch\": \"B1\"},\n",
    "    {\"name\": \"tanishq\", \"PRN\": 92, \"Year\": \"SY\", \"Division\": \"B\", \"Batch\": \"B1\"}\n",
    "]\n",
    "df = pd.DataFrame(data1)\n",
    "print(df)"
   ]
  },
  {
   "cell_type": "code",
   "execution_count": 4,
   "id": "3e09435e-263b-4225-bdd6-e6bf20a50699",
   "metadata": {},
   "outputs": [
    {
     "name": "stdout",
     "output_type": "stream",
     "text": [
      "      name  PRN Year Division Batch\n",
      "0    Rohan   76   SY        B    B1\n",
      "1    Anish   79   SY        B    B1\n",
      "2   Piyush   77   SY        B    B1\n",
      "3   Aditya   75   SY        B    B1\n",
      "4  tanishq   92   SY        B    B1\n",
      "      name  PRN Year Division Batch\n",
      "0    Rohan   76   SY        B    B1\n",
      "1    Anish   79   SY        B    B1\n",
      "2   Piyush   77   SY        B    B1\n",
      "3   Aditya   75   SY        B    B1\n",
      "4  tanishq   92   SY        B    B1\n",
      "      name  PRN Year Division Batch\n",
      "0    Rohan   76   SY        B    B1\n",
      "1    Anish   79   SY        B    B1\n",
      "2   Piyush   77   SY        B    B1\n",
      "3   Aditya   75   SY        B    B1\n",
      "4  tanishq   92   SY        B    B1\n",
      "<class 'pandas.core.frame.DataFrame'>\n",
      "RangeIndex: 5 entries, 0 to 4\n",
      "Data columns (total 5 columns):\n",
      " #   Column    Non-Null Count  Dtype \n",
      "---  ------    --------------  ----- \n",
      " 0   name      5 non-null      object\n",
      " 1   PRN       5 non-null      int64 \n",
      " 2   Year      5 non-null      object\n",
      " 3   Division  5 non-null      object\n",
      " 4   Batch     5 non-null      object\n",
      "dtypes: int64(1), object(4)\n",
      "memory usage: 332.0+ bytes\n",
      "None\n"
     ]
    }
   ],
   "source": [
    "import pandas as pd\n",
    "df = pd.read_json('data.json')\n",
    "print(df)\n",
    "print(df.head(5))  \n",
    "print(df.tail())  \n",
    "print(df.info())"
   ]
  },
  {
   "cell_type": "code",
   "execution_count": 5,
   "id": "c9644bab-ddb7-469f-8b2a-40ef5745bd48",
   "metadata": {},
   "outputs": [
    {
     "name": "stdout",
     "output_type": "stream",
     "text": [
      "      name  PRN Year Division Batch\n",
      "0    Rohan   76   SY        B    B1\n",
      "1    Anish   79   SY        B    B1\n",
      "2   Piyush   77   SY        B    B1\n",
      "3   Aditya   75   SY        B    B1\n",
      "4  tanishq   92   SY        B    B1\n",
      "      name  PRN Year Division Batch\n",
      "0    Rohan   76   SY        B    B1\n",
      "1    Anish   79   SY        B    B1\n",
      "2   Piyush   77   SY        B    B1\n",
      "3   Aditya   75   SY        B    B1\n",
      "4  tanishq   92   SY        B    B1\n",
      "      name  PRN Year Division Batch\n",
      "0    Rohan   76   SY        B    B1\n",
      "1    Anish   79   SY        B    B1\n",
      "2   Piyush   77   SY        B    B1\n",
      "3   Aditya   75   SY        B    B1\n",
      "4  tanishq   92   SY        B    B1\n",
      "<class 'pandas.core.frame.DataFrame'>\n",
      "RangeIndex: 5 entries, 0 to 4\n",
      "Data columns (total 5 columns):\n",
      " #   Column    Non-Null Count  Dtype \n",
      "---  ------    --------------  ----- \n",
      " 0   name      5 non-null      object\n",
      " 1   PRN       5 non-null      int64 \n",
      " 2   Year      5 non-null      object\n",
      " 3   Division  5 non-null      object\n",
      " 4   Batch     5 non-null      object\n",
      "dtypes: int64(1), object(4)\n",
      "memory usage: 332.0+ bytes\n",
      "None\n"
     ]
    }
   ],
   "source": [
    "import pandas as pd\n",
    "df = pd.read_csv('data2.csv')\n",
    "print(df)\n",
    "print(df.head(5))  \n",
    "print(df.tail())  \n",
    "print(df.info())"
   ]
  }
 ],
 "metadata": {
  "kernelspec": {
   "display_name": "Python 3 (ipykernel)",
   "language": "python",
   "name": "python3"
  },
  "language_info": {
   "codemirror_mode": {
    "name": "ipython",
    "version": 3
   },
   "file_extension": ".py",
   "mimetype": "text/x-python",
   "name": "python",
   "nbconvert_exporter": "python",
   "pygments_lexer": "ipython3",
   "version": "3.12.4"
  }
 },
 "nbformat": 4,
 "nbformat_minor": 5
}
